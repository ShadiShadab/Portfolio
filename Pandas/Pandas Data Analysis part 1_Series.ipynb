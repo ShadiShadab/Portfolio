{
 "cells": [
  {
   "cell_type": "markdown",
   "id": "44301d16",
   "metadata": {},
   "source": [
    "# Pandas Data Analysis part 1: Series"
   ]
  },
  {
   "cell_type": "raw",
   "id": "4080c47d",
   "metadata": {},
   "source": [
    "In this project, we would like to create a portfolio of 3 cryptocurrencies ( BTC, ETH, and ADA ) and 3 stocks ( AMZN, TSLA, and AAPL ). Using Pandas, perform the following:\n",
    "Part A:\n",
    "1. Using Yahoo Finance, search for the current closing price of the aforementioned list of cryptos and stocks. \n",
    "2. Create a Python dictionary that lists the ticker symbol ( Keys ) and prices ( values ). \n",
    "3. Create a Pandas Series from a dictionary to show the cryptos/stocks ticker symbols and their corresponding prices. \n",
    "4. Assume that you have the following number of assets in your portfolio : BTC = 3 , ETH = 10 , ADA = 1000 , AMZN = 20 , TSLA = 20 , AAPL = 5. Create a new Pandas series that contains these number of securities. Use the ticker symbols as the Pandas series labels. \n",
    "5.  Multiply the number of securities by the price of each security. Calculate the total value of the portfolio including all securities.\n",
    "\n",
    "PART B: \n",
    "Using the \"S & P500_Prices.csv \", perform the following: \n",
    "1. Using Pandas, read the CSV file into Pandas DataFrame. Check the data type. \n",
    "2. Using Pandas, read the CSV file into a Pandas Series. Check the data type. \n",
    "3. Obtain the maximum, minimum, and average values of the S & P500. \n",
    "4. Sort the Pandas Series in ascending and descending order. Enforce the change in memory. \n",
    "5. Use describe ( ) method to obtain a statistical summary of S & P500. What is the standard deviation? \n",
    "6. With and without rounding the series to the nearest integer, search for the price 3349."
   ]
  },
  {
   "cell_type": "code",
   "execution_count": 1,
   "id": "e8828d60",
   "metadata": {},
   "outputs": [],
   "source": [
    "# Import key libraries\n",
    "import pandas as pd\n",
    "import numpy as np"
   ]
  },
  {
   "cell_type": "code",
   "execution_count": 2,
   "id": "a2ab9d64",
   "metadata": {},
   "outputs": [
    {
     "name": "stdout",
     "output_type": "stream",
     "text": [
      "{'BTC': 23049, 'ETH': 1635, 'ADA': 1, 'AAPL': 156, 'TSLA': 776, 'AMZN': 114}\n"
     ]
    }
   ],
   "source": [
    "# Define a portfolio dictionary containing 3 stocks and 3 crypto\n",
    "portfolio = {'BTC':  23049,\n",
    "             'ETH':  1635,\n",
    "             'ADA':  1,\n",
    "             'AAPL': 156,\n",
    "             'TSLA': 776, \n",
    "             'AMZN': 114}\n",
    "print(portfolio)"
   ]
  },
  {
   "cell_type": "code",
   "execution_count": 3,
   "id": "37d794d4",
   "metadata": {},
   "outputs": [
    {
     "data": {
      "text/plain": [
       "BTC     23049\n",
       "ETH      1635\n",
       "ADA         1\n",
       "AAPL      156\n",
       "TSLA      776\n",
       "AMZN      114\n",
       "dtype: int64"
      ]
     },
     "execution_count": 3,
     "metadata": {},
     "output_type": "execute_result"
    }
   ],
   "source": [
    "# Define a Pandas Series Using the dictionary\n",
    "my_portfolio_series = pd.Series(portfolio)\n",
    "my_portfolio_series"
   ]
  },
  {
   "cell_type": "code",
   "execution_count": 4,
   "id": "29cf7ee6",
   "metadata": {},
   "outputs": [
    {
     "data": {
      "text/plain": [
       "BTC        3\n",
       "ETH       10\n",
       "ADA     1000\n",
       "AAPL       5\n",
       "TSLA      20\n",
       "AMZN      20\n",
       "dtype: int64"
      ]
     },
     "execution_count": 4,
     "metadata": {},
     "output_type": "execute_result"
    }
   ],
   "source": [
    "# Define another Pandas series containing the number of securities \n",
    "number_securities = pd.Series(data = [3, 10, 1000, 5, 20, 20],  index = ['BTC', 'ETH', 'ADA', 'AAPL', 'TSLA', 'AMZN'])\n",
    "number_securities"
   ]
  },
  {
   "cell_type": "code",
   "execution_count": 5,
   "id": "335018c5",
   "metadata": {},
   "outputs": [
    {
     "name": "stdout",
     "output_type": "stream",
     "text": [
      "BTC     69147\n",
      "ETH     16350\n",
      "ADA      1000\n",
      "AAPL      780\n",
      "TSLA    15520\n",
      "AMZN     2280\n",
      "dtype: int64\n"
     ]
    }
   ],
   "source": [
    "# Multiply Pandas Series instances\n",
    "Total_dollar_value = my_portfolio_series.mul(number_securities);\n",
    "print(Total_dollar_value)"
   ]
  },
  {
   "cell_type": "code",
   "execution_count": 6,
   "id": "7cc7f752",
   "metadata": {},
   "outputs": [
    {
     "name": "stdout",
     "output_type": "stream",
     "text": [
      "Total portfolio Value = $105077\n"
     ]
    }
   ],
   "source": [
    "print('Total portfolio Value = ${}'.format(Total_dollar_value.sum()))"
   ]
  },
  {
   "cell_type": "markdown",
   "id": "c7804f90",
   "metadata": {},
   "source": [
    "# Part B"
   ]
  },
  {
   "cell_type": "code",
   "execution_count": 7,
   "id": "c5120beb",
   "metadata": {},
   "outputs": [
    {
     "data": {
      "text/html": [
       "<div>\n",
       "<style scoped>\n",
       "    .dataframe tbody tr th:only-of-type {\n",
       "        vertical-align: middle;\n",
       "    }\n",
       "\n",
       "    .dataframe tbody tr th {\n",
       "        vertical-align: top;\n",
       "    }\n",
       "\n",
       "    .dataframe thead th {\n",
       "        text-align: right;\n",
       "    }\n",
       "</style>\n",
       "<table border=\"1\" class=\"dataframe\">\n",
       "  <thead>\n",
       "    <tr style=\"text-align: right;\">\n",
       "      <th></th>\n",
       "      <th>sp500</th>\n",
       "    </tr>\n",
       "  </thead>\n",
       "  <tbody>\n",
       "    <tr>\n",
       "      <th>0</th>\n",
       "      <td>1295.500000</td>\n",
       "    </tr>\n",
       "    <tr>\n",
       "      <th>1</th>\n",
       "      <td>1289.089966</td>\n",
       "    </tr>\n",
       "    <tr>\n",
       "      <th>2</th>\n",
       "      <td>1293.670044</td>\n",
       "    </tr>\n",
       "    <tr>\n",
       "      <th>3</th>\n",
       "      <td>1308.040039</td>\n",
       "    </tr>\n",
       "    <tr>\n",
       "      <th>4</th>\n",
       "      <td>1314.500000</td>\n",
       "    </tr>\n",
       "    <tr>\n",
       "      <th>...</th>\n",
       "      <td>...</td>\n",
       "    </tr>\n",
       "    <tr>\n",
       "      <th>2154</th>\n",
       "      <td>3327.770020</td>\n",
       "    </tr>\n",
       "    <tr>\n",
       "      <th>2155</th>\n",
       "      <td>3349.159912</td>\n",
       "    </tr>\n",
       "    <tr>\n",
       "      <th>2156</th>\n",
       "      <td>3351.280029</td>\n",
       "    </tr>\n",
       "    <tr>\n",
       "      <th>2157</th>\n",
       "      <td>3360.469971</td>\n",
       "    </tr>\n",
       "    <tr>\n",
       "      <th>2158</th>\n",
       "      <td>3333.689941</td>\n",
       "    </tr>\n",
       "  </tbody>\n",
       "</table>\n",
       "<p>2159 rows × 1 columns</p>\n",
       "</div>"
      ],
      "text/plain": [
       "            sp500\n",
       "0     1295.500000\n",
       "1     1289.089966\n",
       "2     1293.670044\n",
       "3     1308.040039\n",
       "4     1314.500000\n",
       "...           ...\n",
       "2154  3327.770020\n",
       "2155  3349.159912\n",
       "2156  3351.280029\n",
       "2157  3360.469971\n",
       "2158  3333.689941\n",
       "\n",
       "[2159 rows x 1 columns]"
      ]
     },
     "execution_count": 7,
     "metadata": {},
     "output_type": "execute_result"
    }
   ],
   "source": [
    "# Pandas read_csv is used to read a csv file and store data in a DataFrame by default.\n",
    "# Use Squeeze to convert it into a Pandas Series (One-dimensional)\n",
    "# Notice that no foramtting exists when a Series is plotted\n",
    "sp500 = pd.read_csv('Pandas Data Analysis part 1_Series.csv')\n",
    "sp500"
   ]
  },
  {
   "cell_type": "code",
   "execution_count": 8,
   "id": "6e1cafb3",
   "metadata": {},
   "outputs": [
    {
     "data": {
      "text/plain": [
       "0       1295.500000\n",
       "1       1289.089966\n",
       "2       1293.670044\n",
       "3       1308.040039\n",
       "4       1314.500000\n",
       "           ...     \n",
       "2154    3327.770020\n",
       "2155    3349.159912\n",
       "2156    3351.280029\n",
       "2157    3360.469971\n",
       "2158    3333.689941\n",
       "Name: sp500, Length: 2159, dtype: float64"
      ]
     },
     "execution_count": 8,
     "metadata": {},
     "output_type": "execute_result"
    }
   ],
   "source": [
    "# Pandas read_csv is used to read a csv file and store data in a DataFrame by default.\n",
    "# Use Squeeze to convert it into a Pandas Series (One-dimensional)\n",
    "# Notice that no foramtting exists when a Series is plotted\n",
    "sp500 = pd.read_csv('Pandas Data Analysis part 1_Series.csv', squeeze = True)\n",
    "sp500"
   ]
  },
  {
   "cell_type": "code",
   "execution_count": 9,
   "id": "9d1f3e98",
   "metadata": {},
   "outputs": [
    {
     "data": {
      "text/plain": [
       "pandas.core.series.Series"
      ]
     },
     "execution_count": 9,
     "metadata": {},
     "output_type": "execute_result"
    }
   ],
   "source": [
    "# Obtain the Data Type of the Pandas Series\n",
    "type(sp500)"
   ]
  },
  {
   "cell_type": "code",
   "execution_count": 10,
   "id": "f6cb7bdf",
   "metadata": {},
   "outputs": [
    {
     "data": {
      "text/plain": [
       "2159"
      ]
     },
     "execution_count": 10,
     "metadata": {},
     "output_type": "execute_result"
    }
   ],
   "source": [
    "# Obtain the length of the Pandas Series\n",
    "len(sp500)"
   ]
  },
  {
   "cell_type": "code",
   "execution_count": 11,
   "id": "d852215c",
   "metadata": {},
   "outputs": [
    {
     "data": {
      "text/plain": [
       "3386.149902"
      ]
     },
     "execution_count": 11,
     "metadata": {},
     "output_type": "execute_result"
    }
   ],
   "source": [
    "# Obtain the maximum value of the Pandas Series\n",
    "max(sp500)"
   ]
  },
  {
   "cell_type": "code",
   "execution_count": 12,
   "id": "ec7ce17a",
   "metadata": {},
   "outputs": [
    {
     "data": {
      "text/plain": [
       "1278.040039"
      ]
     },
     "execution_count": 12,
     "metadata": {},
     "output_type": "execute_result"
    }
   ],
   "source": [
    "# Obtain the minimum value of the Pandas Series\n",
    "min(sp500)"
   ]
  },
  {
   "cell_type": "code",
   "execution_count": 13,
   "id": "c7742a22",
   "metadata": {},
   "outputs": [
    {
     "data": {
      "text/plain": [
       "97      1278.040039\n",
       "98      1278.180054\n",
       "99      1285.500000\n",
       "1       1289.089966\n",
       "2       1293.670044\n",
       "           ...     \n",
       "2038    3373.229980\n",
       "2034    3373.939941\n",
       "2033    3379.449951\n",
       "2035    3380.159912\n",
       "2037    3386.149902\n",
       "Name: sp500, Length: 2159, dtype: float64"
      ]
     },
     "execution_count": 13,
     "metadata": {},
     "output_type": "execute_result"
    }
   ],
   "source": [
    "# Set inplace = True to ensure that change has taken place in memory \n",
    "sp500.sort_values(inplace = True) \n",
    "sp500"
   ]
  },
  {
   "cell_type": "code",
   "execution_count": 14,
   "id": "f7c7903a",
   "metadata": {},
   "outputs": [
    {
     "data": {
      "text/plain": [
       "0       1295.500000\n",
       "1       1289.089966\n",
       "2       1293.670044\n",
       "3       1308.040039\n",
       "4       1314.500000\n",
       "           ...     \n",
       "2154    3327.770020\n",
       "2155    3349.159912\n",
       "2156    3351.280029\n",
       "2157    3360.469971\n",
       "2158    3333.689941\n",
       "Name: sp500, Length: 2159, dtype: float64"
      ]
     },
     "execution_count": 14,
     "metadata": {},
     "output_type": "execute_result"
    }
   ],
   "source": [
    "# Notice that the indexes are now changed \n",
    "# You can also sort by index (revert back to the original Pandas Series) as follows: \n",
    "sp500.sort_index(inplace = True)\n",
    "sp500"
   ]
  },
  {
   "cell_type": "code",
   "execution_count": 15,
   "id": "93b794ac",
   "metadata": {},
   "outputs": [
    {
     "data": {
      "text/plain": [
       "2037    3386.149902\n",
       "2035    3380.159912\n",
       "2033    3379.449951\n",
       "2034    3373.939941\n",
       "2038    3373.229980\n",
       "           ...     \n",
       "2       1293.670044\n",
       "1       1289.089966\n",
       "99      1285.500000\n",
       "98      1278.180054\n",
       "97      1278.040039\n",
       "Name: sp500, Length: 2159, dtype: float64"
      ]
     },
     "execution_count": 15,
     "metadata": {},
     "output_type": "execute_result"
    }
   ],
   "source": [
    "sp500.sort_values(ascending = False, inplace = True) \n",
    "sp500"
   ]
  },
  {
   "cell_type": "code",
   "execution_count": 16,
   "id": "febca7c4",
   "metadata": {},
   "outputs": [
    {
     "name": "stdout",
     "output_type": "stream",
     "text": [
      "2218.7495540592868\n",
      "2218.749554059287\n"
     ]
    }
   ],
   "source": [
    "# Obtain the average - Solution #1\n",
    "print(sp500.sum()/sp500.count())\n",
    "\n",
    "# Obtain the average - Solution #s\n",
    "print(sp500.mean())"
   ]
  },
  {
   "cell_type": "code",
   "execution_count": 17,
   "id": "88b5544d",
   "metadata": {},
   "outputs": [
    {
     "data": {
      "text/plain": [
       "count    2159.000000\n",
       "mean     2218.749554\n",
       "std       537.321727\n",
       "min      1278.040039\n",
       "25%      1847.984985\n",
       "50%      2106.629883\n",
       "75%      2705.810059\n",
       "max      3386.149902\n",
       "Name: sp500, dtype: float64"
      ]
     },
     "execution_count": 17,
     "metadata": {},
     "output_type": "execute_result"
    }
   ],
   "source": [
    "# My favourite: Describe! \n",
    "# Describe is used to obtain all statistical information in one place \n",
    "sp500.describe()"
   ]
  },
  {
   "cell_type": "code",
   "execution_count": 18,
   "id": "00373bfa",
   "metadata": {},
   "outputs": [
    {
     "data": {
      "text/plain": [
       "False"
      ]
     },
     "execution_count": 18,
     "metadata": {},
     "output_type": "execute_result"
    }
   ],
   "source": [
    "3349 in sp500.values"
   ]
  },
  {
   "cell_type": "code",
   "execution_count": 19,
   "id": "8e0e869d",
   "metadata": {},
   "outputs": [
    {
     "data": {
      "text/plain": [
       "2037    3386.0\n",
       "2035    3380.0\n",
       "2033    3379.0\n",
       "2034    3374.0\n",
       "2038    3373.0\n",
       "         ...  \n",
       "2       1294.0\n",
       "1       1289.0\n",
       "99      1286.0\n",
       "98      1278.0\n",
       "97      1278.0\n",
       "Name: sp500, Length: 2159, dtype: float64"
      ]
     },
     "execution_count": 19,
     "metadata": {},
     "output_type": "execute_result"
    }
   ],
   "source": [
    "sp500 = round(sp500)\n",
    "sp500"
   ]
  },
  {
   "cell_type": "code",
   "execution_count": 20,
   "id": "96cfb345",
   "metadata": {},
   "outputs": [
    {
     "data": {
      "text/plain": [
       "True"
      ]
     },
     "execution_count": 20,
     "metadata": {},
     "output_type": "execute_result"
    }
   ],
   "source": [
    "3349 in sp500.values"
   ]
  }
 ],
 "metadata": {
  "kernelspec": {
   "display_name": "Python 3 (ipykernel)",
   "language": "python",
   "name": "python3"
  },
  "language_info": {
   "codemirror_mode": {
    "name": "ipython",
    "version": 3
   },
   "file_extension": ".py",
   "mimetype": "text/x-python",
   "name": "python",
   "nbconvert_exporter": "python",
   "pygments_lexer": "ipython3",
   "version": "3.9.7"
  }
 },
 "nbformat": 4,
 "nbformat_minor": 5
}
